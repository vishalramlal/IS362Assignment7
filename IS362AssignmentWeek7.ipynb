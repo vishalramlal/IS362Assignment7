{
 "cells": [
  {
   "cell_type": "markdown",
   "id": "5eeb2053",
   "metadata": {},
   "source": [
    "# IS362 Assignment 7\n",
    "Choose six recent popular movies.  Ask at least five people that you know (friends, family, classmates, imaginary friends) to rate each of these movies that they have seen on a scale of 1 to 5.  There should be at least one movie that not everyone has seen!Take the results (observations) and store them somewhere (like a SQL database, or a .CSV file).  \n",
    "Load the information into a pandas dataframe.  Your solution should include Python and pandas code that accomplishes the following:  \n",
    "1.Load the ratings by user information that you collected into a pandas dataframe.  \n",
    "2.Show the average ratings for each user and each movie.  \n",
    "3.Create a new pandas dataframe, with normalizedratings for each user.  Again, show the average ratings for each user and each movie.  \n",
    "4.Provide a text-based conclusion: explain what might be advantages and disadvantages of using normalized ratings instead of the actual ratings."
   ]
  },
  {
   "cell_type": "markdown",
   "id": "c146b1d6",
   "metadata": {},
   "source": [
    "### 1. Load the ratings by user information that you collected into a pandas dataframe.\n",
    "First, the pandas module is loaded, then the CSV file is read. A variable \"dframe\" is created to transform the data into a Data Frame:"
   ]
  },
  {
   "cell_type": "code",
   "execution_count": 1,
   "id": "33adb18c",
   "metadata": {},
   "outputs": [],
   "source": [
    "import pandas as pd\n",
    "\n",
    "rate_data = pd.read_csv('./movieratings.csv')\n",
    "\n",
    "dframe = pd.DataFrame(rate_data)"
   ]
  },
  {
   "cell_type": "markdown",
   "id": "239921fd",
   "metadata": {},
   "source": [
    "### 2. Show the average ratings for each user and each movie."
   ]
  },
  {
   "cell_type": "code",
   "execution_count": 2,
   "id": "e5d5dca1",
   "metadata": {},
   "outputs": [
    {
     "name": "stderr",
     "output_type": "stream",
     "text": [
      "<ipython-input-2-55a5a3a9aa67>:1: FutureWarning: Dropping of nuisance columns in DataFrame reductions (with 'numeric_only=None') is deprecated; in a future version this will raise TypeError.  Select only valid columns before calling the reduction.\n",
      "  dframe.mean(skipna = True)\n"
     ]
    },
    {
     "data": {
      "text/plain": [
       "The Suicide Squad        4.05\n",
       "Promising Young Woman    3.38\n",
       "Candyman                 4.06\n",
       "Malignant                4.10\n",
       "Free Guy                 4.66\n",
       "No Time to Die           3.66\n",
       "dtype: float64"
      ]
     },
     "execution_count": 2,
     "metadata": {},
     "output_type": "execute_result"
    }
   ],
   "source": [
    "dframe.mean(skipna = True)"
   ]
  },
  {
   "cell_type": "markdown",
   "id": "1660967d",
   "metadata": {},
   "source": [
    "### 3. Create a new pandas dataframe, with normalized ratings for each user."
   ]
  },
  {
   "cell_type": "code",
   "execution_count": 3,
   "id": "4ba6ea83",
   "metadata": {},
   "outputs": [
    {
     "data": {
      "text/html": [
       "<div>\n",
       "<style scoped>\n",
       "    .dataframe tbody tr th:only-of-type {\n",
       "        vertical-align: middle;\n",
       "    }\n",
       "\n",
       "    .dataframe tbody tr th {\n",
       "        vertical-align: top;\n",
       "    }\n",
       "\n",
       "    .dataframe thead th {\n",
       "        text-align: right;\n",
       "    }\n",
       "</style>\n",
       "<table border=\"1\" class=\"dataframe\">\n",
       "  <thead>\n",
       "    <tr style=\"text-align: right;\">\n",
       "      <th></th>\n",
       "      <th>The Suicide Squad</th>\n",
       "      <th>Promising Young Woman</th>\n",
       "      <th>Candyman</th>\n",
       "      <th>Malignant</th>\n",
       "      <th>Free Guy</th>\n",
       "      <th>No Time to Die</th>\n",
       "    </tr>\n",
       "    <tr>\n",
       "      <th>Names</th>\n",
       "      <th></th>\n",
       "      <th></th>\n",
       "      <th></th>\n",
       "      <th></th>\n",
       "      <th></th>\n",
       "      <th></th>\n",
       "    </tr>\n",
       "  </thead>\n",
       "  <tbody>\n",
       "    <tr>\n",
       "      <th>Alfred</th>\n",
       "      <td>0.838710</td>\n",
       "      <td>0.600000</td>\n",
       "      <td>1.000000</td>\n",
       "      <td>NaN</td>\n",
       "      <td>0.333333</td>\n",
       "      <td>0.64</td>\n",
       "    </tr>\n",
       "    <tr>\n",
       "      <th>Janie</th>\n",
       "      <td>NaN</td>\n",
       "      <td>1.000000</td>\n",
       "      <td>0.117647</td>\n",
       "      <td>1.0</td>\n",
       "      <td>0.777778</td>\n",
       "      <td>0.28</td>\n",
       "    </tr>\n",
       "    <tr>\n",
       "      <th>Kevin</th>\n",
       "      <td>1.000000</td>\n",
       "      <td>0.000000</td>\n",
       "      <td>0.705882</td>\n",
       "      <td>0.0</td>\n",
       "      <td>1.000000</td>\n",
       "      <td>0.00</td>\n",
       "    </tr>\n",
       "    <tr>\n",
       "      <th>Isabel</th>\n",
       "      <td>0.000000</td>\n",
       "      <td>1.000000</td>\n",
       "      <td>0.000000</td>\n",
       "      <td>0.0</td>\n",
       "      <td>0.000000</td>\n",
       "      <td>1.00</td>\n",
       "    </tr>\n",
       "    <tr>\n",
       "      <th>Charlie</th>\n",
       "      <td>0.935484</td>\n",
       "      <td>0.333333</td>\n",
       "      <td>0.411765</td>\n",
       "      <td>0.6</td>\n",
       "      <td>1.000000</td>\n",
       "      <td>0.40</td>\n",
       "    </tr>\n",
       "  </tbody>\n",
       "</table>\n",
       "</div>"
      ],
      "text/plain": [
       "         The Suicide Squad  Promising Young Woman  Candyman  Malignant  \\\n",
       "Names                                                                    \n",
       "Alfred            0.838710               0.600000  1.000000        NaN   \n",
       "Janie                  NaN               1.000000  0.117647        1.0   \n",
       "Kevin             1.000000               0.000000  0.705882        0.0   \n",
       "Isabel            0.000000               1.000000  0.000000        0.0   \n",
       "Charlie           0.935484               0.333333  0.411765        0.6   \n",
       "\n",
       "         Free Guy  No Time to Die  \n",
       "Names                              \n",
       "Alfred   0.333333            0.64  \n",
       "Janie    0.777778            0.28  \n",
       "Kevin    1.000000            0.00  \n",
       "Isabel   0.000000            1.00  \n",
       "Charlie  1.000000            0.40  "
      ]
     },
     "execution_count": 3,
     "metadata": {},
     "output_type": "execute_result"
    }
   ],
   "source": [
    "dframe_idx = rate_data.set_index('Names')\n",
    "rate_data_normalize = (dframe_idx - dframe_idx.min()) / (dframe_idx.max() - dframe_idx.min())\n",
    "rate_data_normalize"
   ]
  },
  {
   "cell_type": "markdown",
   "id": "f47726fe",
   "metadata": {},
   "source": [
    "### 4. Provide a text-based conclusion: explain what might be advantages and disadvantages of using normalized ratings instead of the actual ratings.  \n",
    "Normalized ratings provide a view that can fit into different scales for different learning models. A disadvantage might be that to the human eye, normailzed ratings do not seem to represent the data accurately."
   ]
  }
 ],
 "metadata": {
  "kernelspec": {
   "display_name": "Python 3",
   "language": "python",
   "name": "python3"
  },
  "language_info": {
   "codemirror_mode": {
    "name": "ipython",
    "version": 3
   },
   "file_extension": ".py",
   "mimetype": "text/x-python",
   "name": "python",
   "nbconvert_exporter": "python",
   "pygments_lexer": "ipython3",
   "version": "3.8.10"
  }
 },
 "nbformat": 4,
 "nbformat_minor": 5
}
